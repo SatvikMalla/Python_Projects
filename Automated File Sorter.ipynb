{
 "cells": [
  {
   "cell_type": "code",
   "execution_count": 65,
   "id": "9c5dfcc7-935b-48d3-b907-d2749087251b",
   "metadata": {},
   "outputs": [],
   "source": [
    "import os ,shutil"
   ]
  },
  {
   "cell_type": "code",
   "execution_count": 67,
   "id": "f27ea327-bd79-4577-93ca-ee1feda43c9d",
   "metadata": {},
   "outputs": [],
   "source": [
    "path = r\"............/\""
   ]
  },
  {
   "cell_type": "code",
   "execution_count": 80,
   "id": "4f198e07-4b2a-437a-b360-aa262981d2cf",
   "metadata": {},
   "outputs": [],
   "source": [
    "file_names = os.listdir(path)"
   ]
  },
  {
   "cell_type": "code",
   "execution_count": 71,
   "id": "c2101892-5566-4aa1-9788-94990eef545c",
   "metadata": {},
   "outputs": [],
   "source": [
    "file_extensions = set() "
   ]
  },
  {
   "cell_type": "code",
   "execution_count": 73,
   "id": "e4b8644c-e20b-4d7f-94e6-d65924925ff9",
   "metadata": {},
   "outputs": [],
   "source": [
    "for file_name in file_names:\n",
    "    if os.path.isfile(os.path.join(path, file_name)):\n",
    "       extension = os.path.splitext(file_name)[1].lower()\n",
    "    if extension:\n",
    "        file_extensions.add(extension)"
   ]
  },
  {
   "cell_type": "code",
   "execution_count": 75,
   "id": "0da19bf2-c2a8-4704-889a-c83916f6c309",
   "metadata": {},
   "outputs": [],
   "source": [
    "for ext in file_extensions:\n",
    "    folder_name = ext[1:] + \" files\"\n",
    "    folder_path = os.path.join(path,folder_name)\n",
    "    if not os.path.exists(folder_path):\n",
    "        os.makedirs(folder_path)"
   ]
  },
  {
   "cell_type": "code",
   "execution_count": 77,
   "id": "a0a3cb69-1995-4135-ba83-e5b9584d806b",
   "metadata": {},
   "outputs": [],
   "source": [
    "for file_name in file_names:\n",
    "    if os.path.isdir(os.path.join(path,file_name)):\n",
    "        continue\n",
    "\n",
    "    extension = os.path.splitext(file_name)[1].lower()\n",
    "\n",
    "    if extension:\n",
    "        folder_name = extension[1:] + \" files\"\n",
    "        folder_path = os.path.join(path,folder_name)\n",
    "\n",
    "        current_file_path = os.path.join(path,file_name) \n",
    "        target_file_path = os.path.join(folder_path,file_name)\n",
    "\n",
    "        if not os.path.exists(target_file_path):\n",
    "            shutil.move(current_file_path,target_file_path)\n",
    "        "
   ]
  },
  {
   "cell_type": "code",
   "execution_count": null,
   "id": "b2fbd65b-4059-4314-a3e8-5d1f844ba8b6",
   "metadata": {},
   "outputs": [],
   "source": []
  }
 ],
 "metadata": {
  "kernelspec": {
   "display_name": "Python 3 (ipykernel)",
   "language": "python",
   "name": "python3"
  },
  "language_info": {
   "codemirror_mode": {
    "name": "ipython",
    "version": 3
   },
   "file_extension": ".py",
   "mimetype": "text/x-python",
   "name": "python",
   "nbconvert_exporter": "python",
   "pygments_lexer": "ipython3",
   "version": "3.12.7"
  }
 },
 "nbformat": 4,
 "nbformat_minor": 5
}
