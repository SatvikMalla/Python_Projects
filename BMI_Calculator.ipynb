{
 "cells": [
  {
   "cell_type": "code",
   "execution_count": 55,
   "id": "3e3fc899-6653-4a57-a7b4-0571f7eb9c4b",
   "metadata": {},
   "outputs": [
    {
     "name": "stdin",
     "output_type": "stream",
     "text": [
      "Enter your name:  Satvik\n",
      "Enter your weight in pounds:  178\n",
      "Enter your height in inches:  70\n"
     ]
    },
    {
     "name": "stdout",
     "output_type": "stream",
     "text": [
      "Satvik your BMI is  25.537551020408163\n",
      "Satvik ,you are Overweight\n"
     ]
    }
   ],
   "source": [
    "name  = input(\"Enter your name: \")\n",
    "weight = int(input(\"Enter your weight in pounds: \"))\n",
    "height = int(input(\"Enter your height in inches: \"))\n",
    "\n",
    "BMI = (weight * 703) / (height * height)\n",
    "print(name + \" your BMI is \", BMI)\n",
    "\n",
    "if (BMI >0):\n",
    "    if (BMI<18.5):\n",
    "        print(name + \" ,you are underweight\")\n",
    "    elif (BMI<=25):\n",
    "        print(name + \" ,you are normal weight\")\n",
    "    elif (BMI<=30):\n",
    "        print(name + \" ,you are Overweight\")\n",
    "    elif (BMI<=35):\n",
    "        print(name + \", you are obese\")\n",
    "else:\n",
    "    print(\"Please enter valid input\")   "
   ]
  }
 ],
 "metadata": {
  "kernelspec": {
   "display_name": "Python 3 (ipykernel)",
   "language": "python",
   "name": "python3"
  },
  "language_info": {
   "codemirror_mode": {
    "name": "ipython",
    "version": 3
   },
   "file_extension": ".py",
   "mimetype": "text/x-python",
   "name": "python",
   "nbconvert_exporter": "python",
   "pygments_lexer": "ipython3",
   "version": "3.12.7"
  }
 },
 "nbformat": 4,
 "nbformat_minor": 5
}
